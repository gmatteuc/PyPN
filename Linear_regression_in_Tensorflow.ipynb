{
 "cells": [
  {
   "cell_type": "markdown",
   "metadata": {},
   "source": [
    "# Linear regression in Tensorflow\n",
    " \n",
    "\n",
    "In order to become acqainted to Tensorflow sintax let's implement linear regression in Tensorflow on a toy example of model fitting (linear dependency + uniform noise). Del tipo: **\"Spariamo ad una mosca con un cannone\"**..."
   ]
  },
  {
   "cell_type": "code",
   "execution_count": 1,
   "metadata": {
    "collapsed": false
   },
   "outputs": [
    {
     "name": "stderr",
     "output_type": "stream",
     "text": [
      "/usr/local/Anaconda3/lib/python3.6/importlib/_bootstrap.py:205: RuntimeWarning: compiletime version 3.5 of module 'tensorflow.python.framework.fast_tensor_util' does not match runtime version 3.6\n",
      "  return f(*args, **kwds)\n"
     ]
    }
   ],
   "source": [
    "# import needed modules\n",
    "import numpy as np\n",
    "import matplotlib.pyplot as plt\n",
    "import tensorflow as tf\n",
    "from tensorflow.python.framework import ops\n",
    "\n",
    "%matplotlib inline"
   ]
  },
  {
   "cell_type": "code",
   "execution_count": 2,
   "metadata": {
    "collapsed": false
   },
   "outputs": [
    {
     "name": "stdout",
     "output_type": "stream",
     "text": [
      "(1, 1000)\n"
     ]
    },
    {
     "data": {
      "image/png": "[encoded data removed]",
      "text/plain": [
       "<matplotlib.figure.Figure at 0x7fe31c9be438>"
      ]
     },
     "metadata": {},
     "output_type": "display_data"
    }
   ],
   "source": [
    "# generate synthetic data\n",
    "npoints=1000\n",
    "x=np.arange(0,npoints).reshape(1,npoints)/npoints\n",
    "noise=1*np.random.rand(1,npoints)\n",
    "true_a=2\n",
    "true_b=30\n",
    "y=((true_a*x)+true_b)+noise\n",
    "plt.plot(x.flatten(),y.flatten())\n",
    "print(y.shape)"
   ]
  },
  {
   "cell_type": "code",
   "execution_count": 3,
   "metadata": {
    "collapsed": false
   },
   "outputs": [],
   "source": [
    "# split in training and test set\n",
    "trainsetsize=int(npoints*0.8)\n",
    "testsetsize=npoints-trainsetsize\n",
    "x_train=x[0,0:trainsetsize].reshape(1,trainsetsize)\n",
    "x_test=x[0,trainsetsize:npoints].reshape(1,testsetsize)\n",
    "y_train=y[0,0:trainsetsize].reshape(1,trainsetsize)\n",
    "y_test=y[0,trainsetsize:npoints].reshape(1,testsetsize)"
   ]
  },
  {
   "cell_type": "code",
   "execution_count": 4,
   "metadata": {
    "collapsed": false
   },
   "outputs": [
    {
     "name": "stdout",
     "output_type": "stream",
     "text": [
      "a = <tf.Variable 'a:0' shape=(1, 1) dtype=float32_ref>\n",
      "b = <tf.Variable 'b:0' shape=(1, 1) dtype=float32_ref>\n"
     ]
    }
   ],
   "source": [
    "# define parameters inizialization function\n",
    "def initialize_params():\n",
    "    a = tf.get_variable(\"a\", [1, 1], initializer = tf.zeros_initializer())\n",
    "    b = tf.get_variable(\"b\", [1, 1], initializer = tf.zeros_initializer())\n",
    "    params = {\"a\": a,\n",
    "              \"b\": b}\n",
    "    return params\n",
    "# TEST case\n",
    "tf.reset_default_graph()\n",
    "with tf.Session() as sess:\n",
    "    params = initialize_params()\n",
    "    print(\"a = \" + str(params[\"a\"]))\n",
    "    print(\"b = \" + str(params[\"b\"]))"
   ]
  },
  {
   "cell_type": "code",
   "execution_count": 5,
   "metadata": {
    "collapsed": false
   },
   "outputs": [
    {
     "name": "stdout",
     "output_type": "stream",
     "text": [
      "X = Tensor(\"X:0\", shape=(1, ?), dtype=float32)\n",
      "Y = Tensor(\"Y:0\", shape=(1, ?), dtype=float32)\n"
     ]
    }
   ],
   "source": [
    "# define placeholder builder function\n",
    "def create_placeholders(n_x, n_y):\n",
    "    X = tf.placeholder(tf.float32, [n_x, None], name=\"X\")\n",
    "    Y = tf.placeholder(tf.float32, [n_y, None], name=\"Y\")\n",
    "    return X,Y\n",
    "# TEST case\n",
    "tf.reset_default_graph()\n",
    "with tf.Session() as sess:\n",
    "    (n_x, m) = x_train.shape                        \n",
    "    (n_y, m)= y_train.shape \n",
    "    X,Y = create_placeholders(n_x, n_y)\n",
    "    print(\"X = \" + str(X))\n",
    "    print(\"Y = \" + str(Y))"
   ]
  },
  {
   "cell_type": "code",
   "execution_count": 6,
   "metadata": {
    "collapsed": false
   },
   "outputs": [
    {
     "name": "stdout",
     "output_type": "stream",
     "text": [
      "Y_predicted = Tensor(\"Add:0\", shape=(1, ?), dtype=float32)\n"
     ]
    }
   ],
   "source": [
    "# define predict function (our linear model)\n",
    "def predict(x,params):\n",
    "    a = params['a']\n",
    "    b = params['b']\n",
    "    y_predicted=tf.add(tf.multiply(a,x),b)\n",
    "    return y_predicted\n",
    "# TEST case\n",
    "tf.reset_default_graph()\n",
    "with tf.Session() as sess:\n",
    "    params = initialize_params()\n",
    "    (n_x, m) = x_train.shape                        \n",
    "    (n_y, m)= y_train.shape \n",
    "    X,Y = create_placeholders(n_x, n_y)\n",
    "    Y_predicted=predict(X,params)\n",
    "    print(\"Y_predicted = \" + str(Y_predicted))"
   ]
  },
  {
   "cell_type": "code",
   "execution_count": 7,
   "metadata": {
    "collapsed": false
   },
   "outputs": [
    {
     "name": "stdout",
     "output_type": "stream",
     "text": [
      "cost = Tensor(\"Mean:0\", shape=(1,), dtype=float32)\n"
     ]
    }
   ],
   "source": [
    "# define cost function (over the whole batch)\n",
    "def compute_cost(y_predicted,y):\n",
    "    cost_vector=tf.pow(y-y_predicted, 2)\n",
    "    cost = tf.reduce_mean(cost_vector,1)\n",
    "    return cost\n",
    "# TEST case\n",
    "tf.reset_default_graph()\n",
    "with tf.Session() as sess:\n",
    "    params = initialize_params()\n",
    "    (n_x, m) = x_train.shape                        \n",
    "    (n_y, m)= y_train.shape \n",
    "    X,Y = create_placeholders(n_x, n_y)\n",
    "    Y_predicted=predict(X,params)\n",
    "    cost=compute_cost(Y_predicted,Y)\n",
    "    print(\"cost = \" + str(cost))"
   ]
  },
  {
   "cell_type": "code",
   "execution_count": 12,
   "metadata": {
    "collapsed": false
   },
   "outputs": [],
   "source": [
    "# define complete Tensorflow model using previously defined functions\n",
    "def linear_model(x_train, y_train, x_test, y_test, learning_rate = 0.5,\n",
    "          num_epochs = 10, print_cost = True):\n",
    "    \n",
    "    ops.reset_default_graph()   \n",
    "    costs=[]\n",
    "    \n",
    "    (n_x, m) = x_train.shape                        \n",
    "    (n_y, m)= y_train.shape \n",
    "    X,Y = create_placeholders(n_x, n_y)\n",
    "    params = initialize_params()\n",
    "    Y_predicted = predict(X,params) \n",
    "    cost=compute_cost(Y_predicted,Y)\n",
    "    optimizer = tf.train.GradientDescentOptimizer(learning_rate=learning_rate).minimize(cost)\n",
    "    \n",
    "    init = tf.global_variables_initializer() \n",
    "    with tf.Session() as sess:\n",
    "        sess.run(init)   \n",
    "\n",
    "        for epoch in range(num_epochs):\n",
    "            _,epoch_cost=sess.run([optimizer, cost], feed_dict={X: x_train, Y: y_train})\n",
    "            \n",
    "            if print_cost == True and epoch % 5 == 0:\n",
    "                print (\"Cost after epoch %i: %f\" % (epoch, epoch_cost))\n",
    "                costs.append(epoch_cost)\n",
    "                \n",
    "        plt.plot(np.squeeze(costs))\n",
    "        plt.ylabel('cost')\n",
    "        plt.xlabel('iterations')\n",
    "        plt.title(\"Learning rate =\" + str(learning_rate))\n",
    "        plt.show()\n",
    "        params = sess.run(params)\n",
    "        print(\"Parameters have been trained!\")\n",
    "        \n",
    "    return params"
   ]
  },
  {
   "cell_type": "code",
   "execution_count": 15,
   "metadata": {
    "collapsed": false
   },
   "outputs": [
    {
     "name": "stdout",
     "output_type": "stream",
     "text": [
      "Cost after epoch 0: 980.891785\n",
      "Cost after epoch 5: 72.604187\n",
      "Cost after epoch 10: 8.642943\n",
      "Cost after epoch 15: 3.856995\n",
      "Cost after epoch 20: 3.243118\n",
      "Cost after epoch 25: 2.945940\n",
      "Cost after epoch 30: 2.693241\n",
      "Cost after epoch 35: 2.463998\n",
      "Cost after epoch 40: 2.254954\n",
      "Cost after epoch 45: 2.064252\n",
      "Cost after epoch 50: 1.890278\n",
      "Cost after epoch 55: 1.731565\n",
      "Cost after epoch 60: 1.586772\n",
      "Cost after epoch 65: 1.454681\n",
      "Cost after epoch 70: 1.334176\n",
      "Cost after epoch 75: 1.224241\n",
      "Cost after epoch 80: 1.123950\n",
      "Cost after epoch 85: 1.032455\n",
      "Cost after epoch 90: 0.948986\n",
      "Cost after epoch 95: 0.872838\n",
      "Cost after epoch 100: 0.803370\n",
      "Cost after epoch 105: 0.739996\n",
      "Cost after epoch 110: 0.682180\n",
      "Cost after epoch 115: 0.629435\n",
      "Cost after epoch 120: 0.581317\n",
      "Cost after epoch 125: 0.537420\n",
      "Cost after epoch 130: 0.497373\n",
      "Cost after epoch 135: 0.460839\n",
      "Cost after epoch 140: 0.427509\n",
      "Cost after epoch 145: 0.397103\n",
      "Cost after epoch 150: 0.369365\n",
      "Cost after epoch 155: 0.344059\n",
      "Cost after epoch 160: 0.320973\n",
      "Cost after epoch 165: 0.299912\n",
      "Cost after epoch 170: 0.280698\n",
      "Cost after epoch 175: 0.263170\n",
      "Cost after epoch 180: 0.247179\n",
      "Cost after epoch 185: 0.232591\n",
      "Cost after epoch 190: 0.219282\n",
      "Cost after epoch 195: 0.207141\n",
      "Cost after epoch 200: 0.196065\n",
      "Cost after epoch 205: 0.185960\n",
      "Cost after epoch 210: 0.176742\n",
      "Cost after epoch 215: 0.168332\n",
      "Cost after epoch 220: 0.160660\n",
      "Cost after epoch 225: 0.153661\n",
      "Cost after epoch 230: 0.147276\n",
      "Cost after epoch 235: 0.141451\n",
      "Cost after epoch 240: 0.136137\n",
      "Cost after epoch 245: 0.131289\n",
      "Cost after epoch 250: 0.126866\n",
      "Cost after epoch 255: 0.122831\n",
      "Cost after epoch 260: 0.119150\n",
      "Cost after epoch 265: 0.115792\n",
      "Cost after epoch 270: 0.112729\n",
      "Cost after epoch 275: 0.109934\n",
      "Cost after epoch 280: 0.107384\n",
      "Cost after epoch 285: 0.105058\n",
      "Cost after epoch 290: 0.102936\n",
      "Cost after epoch 295: 0.101001\n",
      "Cost after epoch 300: 0.099234\n",
      "Cost after epoch 305: 0.097623\n",
      "Cost after epoch 310: 0.096154\n",
      "Cost after epoch 315: 0.094813\n",
      "Cost after epoch 320: 0.093589\n",
      "Cost after epoch 325: 0.092473\n",
      "Cost after epoch 330: 0.091455\n",
      "Cost after epoch 335: 0.090527\n",
      "Cost after epoch 340: 0.089679\n",
      "Cost after epoch 345: 0.088906\n",
      "Cost after epoch 350: 0.088201\n",
      "Cost after epoch 355: 0.087558\n",
      "Cost after epoch 360: 0.086971\n",
      "Cost after epoch 365: 0.086436\n",
      "Cost after epoch 370: 0.085947\n",
      "Cost after epoch 375: 0.085502\n",
      "Cost after epoch 380: 0.085095\n",
      "Cost after epoch 385: 0.084724\n",
      "Cost after epoch 390: 0.084386\n",
      "Cost after epoch 395: 0.084077\n",
      "Cost after epoch 400: 0.083796\n",
      "Cost after epoch 405: 0.083539\n",
      "Cost after epoch 410: 0.083304\n",
      "Cost after epoch 415: 0.083091\n",
      "Cost after epoch 420: 0.082896\n",
      "Cost after epoch 425: 0.082718\n",
      "Cost after epoch 430: 0.082555\n",
      "Cost after epoch 435: 0.082407\n",
      "Cost after epoch 440: 0.082272\n",
      "Cost after epoch 445: 0.082149\n",
      "Cost after epoch 450: 0.082036\n",
      "Cost after epoch 455: 0.081934\n",
      "Cost after epoch 460: 0.081840\n",
      "Cost after epoch 465: 0.081755\n",
      "Cost after epoch 470: 0.081677\n",
      "Cost after epoch 475: 0.081606\n",
      "Cost after epoch 480: 0.081541\n",
      "Cost after epoch 485: 0.081482\n",
      "Cost after epoch 490: 0.081428\n",
      "Cost after epoch 495: 0.081379\n",
      "Cost after epoch 500: 0.081334\n",
      "Cost after epoch 505: 0.081293\n",
      "Cost after epoch 510: 0.081256\n",
      "Cost after epoch 515: 0.081222\n",
      "Cost after epoch 520: 0.081191\n",
      "Cost after epoch 525: 0.081162\n",
      "Cost after epoch 530: 0.081136\n",
      "Cost after epoch 535: 0.081113\n",
      "Cost after epoch 540: 0.081091\n",
      "Cost after epoch 545: 0.081071\n",
      "Cost after epoch 550: 0.081054\n",
      "Cost after epoch 555: 0.081037\n",
      "Cost after epoch 560: 0.081022\n",
      "Cost after epoch 565: 0.081009\n",
      "Cost after epoch 570: 0.080996\n",
      "Cost after epoch 575: 0.080985\n",
      "Cost after epoch 580: 0.080975\n",
      "Cost after epoch 585: 0.080965\n",
      "Cost after epoch 590: 0.080957\n",
      "Cost after epoch 595: 0.080949\n"
     ]
    },
    {
     "data": {
      "image/png": "[encoded data removed]",
      "text/plain": [
       "<matplotlib.figure.Figure at 0x7fe30c2d2c18>"
      ]
     },
     "metadata": {},
     "output_type": "display_data"
    },
    {
     "name": "stdout",
     "output_type": "stream",
     "text": [
      "Parameters have been trained!\n",
      "a = [[ 2.01893377]]\n",
      "b = [[ 30.50728035]]\n"
     ]
    }
   ],
   "source": [
    "# run the model optimization (fit our linear model to the data)\n",
    "params = linear_model(x_train, y_train, x_test, y_test, num_epochs = 600, learning_rate=0.1, print_cost=True)\n",
    "print(\"a = \" + str(params[\"a\"]))\n",
    "print(\"b = \" + str(params[\"b\"]))"
   ]
  },
  {
   "cell_type": "code",
   "execution_count": 16,
   "metadata": {
    "collapsed": false
   },
   "outputs": [
    {
     "data": {
      "text/plain": [
       "[<matplotlib.lines.Line2D at 0x7fe31c8ef198>]"
      ]
     },
     "execution_count": 16,
     "metadata": {},
     "output_type": "execute_result"
    },
    {
     "data": {
      "image/png": "[encoded data removed]",
      "text/plain": [
       "<matplotlib.figure.Figure at 0x7fe30c549ac8>"
      ]
     },
     "metadata": {},
     "output_type": "display_data"
    }
   ],
   "source": [
    "# compare optimization results with ground truth\n",
    "y=((true_a*x)+true_b)+noise\n",
    "plt.plot(x.flatten(),y.flatten())\n",
    "y=((true_a*x)+true_b)+np.mean(noise)\n",
    "plt.plot(x.flatten(),y.flatten())\n",
    "y_out=((params[\"a\"]*x)+params[\"b\"])\n",
    "plt.plot(x.flatten(),y_out.flatten())"
   ]
  }
 ],
 "metadata": {
  "kernelspec": {
   "display_name": "Python 3",
   "language": "python",
   "name": "python3"
  },
  "language_info": {
   "codemirror_mode": {
    "name": "ipython",
    "version": 3
   },
   "file_extension": ".py",
   "mimetype": "text/x-python",
   "name": "python",
   "nbconvert_exporter": "python",
   "pygments_lexer": "ipython3",
   "version": "3.6.0"
  }
 },
 "nbformat": 4,
 "nbformat_minor": 2
}
