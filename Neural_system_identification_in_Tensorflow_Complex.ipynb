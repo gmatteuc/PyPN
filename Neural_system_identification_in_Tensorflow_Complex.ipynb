{
 "cells": [
  {
   "cell_type": "markdown",
   "metadata": {},
   "source": [
    "# Neural system identification in Tensorflow - Complex\n",
    "\n",
    "Let's develop a toy neural system ideintification test case in order to compare a direct model fitting method with classical STA approach (knowing \"groud truth\" \"complex cell\" data genrating model)...then let's try something new!"
   ]
  },
  {
   "cell_type": "code",
   "execution_count": 1,
   "metadata": {
    "collapsed": false
   },
   "outputs": [
    {
     "name": "stderr",
     "output_type": "stream",
     "text": [
      "/usr/local/Anaconda3/lib/python3.6/importlib/_bootstrap.py:205: RuntimeWarning: compiletime version 3.5 of module 'tensorflow.python.framework.fast_tensor_util' does not match runtime version 3.6\n",
      "  return f(*args, **kwds)\n"
     ]
    }
   ],
   "source": [
    "# import needed modules\n",
    "import math\n",
    "import scipy as sp\n",
    "import numpy as np\n",
    "import matplotlib.pyplot as plt\n",
    "\n",
    "import tensorflow as tf\n",
    "from tensorflow.python.framework import ops\n",
    "\n",
    "from skimage.filters import gabor_kernel\n",
    "from skimage.transform import resize\n",
    "from sklearn.preprocessing import normalize\n",
    "\n",
    "%matplotlib inline"
   ]
  },
  {
   "cell_type": "markdown",
   "metadata": {},
   "source": [
    "### Sythetic data generation\n",
    " \n",
    "\n",
    "Let's start generating some synthetic \"ideal\" simple cell responses to noise stimulation"
   ]
  },
  {
   "cell_type": "code",
   "execution_count": 2,
   "metadata": {
    "collapsed": false
   },
   "outputs": [
    {
     "name": "stdout",
     "output_type": "stream",
     "text": [
      "Noise_max = 1.0 / Noise_mean = 0.52 / Noise_min = 0.0\n",
      "(16, 32, 40000)\n"
     ]
    },
    {
     "data": {
      "image/png": "[encoded data removed]",
      "text/plain": [
       "<matplotlib.figure.Figure at 0x7f3faee0de80>"
      ]
     },
     "metadata": {},
     "output_type": "display_data"
    }
   ],
   "source": [
    "# generate uncorrelated noise stimulus for reverse correlation\n",
    "nframes=40*1000\n",
    "noise_width=32\n",
    "noise_height=16\n",
    "noise=np.random.randn(noise_height,noise_width,nframes)\n",
    "noise=(noise-noise.min())/(noise.max()-noise.min())\n",
    "\n",
    "# inspect it\n",
    "frame_to_be_inspected=noise[:,:,1]\n",
    "plt.imshow(frame_to_be_inspected, cmap='gray')\n",
    "print(\"Noise_max = \" + str(round(noise.max(),3)) + \n",
    "      \" / Noise_mean = \" + str(round(noise.mean(),3)) + \n",
    "      \" / Noise_min = \" + str(round(noise.min(),3)))\n",
    "print(noise.shape)"
   ]
  },
  {
   "cell_type": "code",
   "execution_count": 3,
   "metadata": {
    "collapsed": false
   },
   "outputs": [
    {
     "name": "stdout",
     "output_type": "stream",
     "text": [
      "Noise_max = 1.0 / Noise_mean = 0.497 / Noise_min = 0.0\n",
      "1.0\n"
     ]
    },
    {
     "data": {
      "image/png": "[encoded data removed]",
      "text/plain": [
       "<matplotlib.figure.Figure at 0x7f3ffd79e0b8>"
      ]
     },
     "metadata": {},
     "output_type": "display_data"
    }
   ],
   "source": [
    "# generate correlated version of the noise\n",
    "smooth_kernel=np.array([[1,2,1],[2,3,2],[1,2,1]])\n",
    "smooth_kernel=smooth_kernel-(np.mean(smooth_kernel)-1) \n",
    "smooth_kernel=np.reshape(smooth_kernel,(smooth_kernel.shape[0],smooth_kernel.shape[1],1))\n",
    "corr_noise=sp.signal.convolve(noise, smooth_kernel, mode='valid')\n",
    "corr_noise=resize(corr_noise,(noise_height,noise_width,nframes),mode='edge')\n",
    "corr_noise=(corr_noise-corr_noise.min())/(corr_noise.max()-corr_noise.min())\n",
    "\n",
    "# inspect it\n",
    "frame_to_be_inspected=corr_noise[:,:,1]\n",
    "plt.imshow(frame_to_be_inspected, cmap='gray')\n",
    "print(\"Noise_max = \" + str(round(corr_noise.max(),3)) + \n",
    "      \" / Noise_mean = \" + str(round(corr_noise.mean(),3)) + \n",
    "      \" / Noise_min = \" + str(round(corr_noise.min(),3)))\n",
    "print(corr_noise.max())"
   ]
  },
  {
   "cell_type": "code",
   "execution_count": 4,
   "metadata": {
    "collapsed": false
   },
   "outputs": [
    {
     "name": "stdout",
     "output_type": "stream",
     "text": [
      "(1, 512)\n",
      "Kernel_1_max = 1.0 / Kernel_1_mean = -0.0 / Noise_1_min = -0.7274\n",
      "Kernel_2_max = 1.0 / Kernel_2_mean = 0.0 / Noise_2_min = -1.0\n"
     ]
    },
    {
     "data": {
      "image/png": "[encoded data removed]",
      "text/plain": [
       "<matplotlib.figure.Figure at 0x7f3fae912748>"
      ]
     },
     "metadata": {},
     "output_type": "display_data"
    }
   ],
   "source": [
    "# create a gabor kernel\n",
    "frequency=0.05 # spatial frequency in pixels\n",
    "theta=(1/6)*math.pi # orientation in radians (0 on vertical axis)\n",
    "sigma_x=10 # width std in pixel\n",
    "sigma_y=20 # height std in pixel\n",
    "n_stds=5 # number of stds in the output filters\n",
    "offset=(1/2)*math.pi # phase offset of kernel 2 (energy model)\n",
    "\n",
    "# generate and resize kernel 1\n",
    "flat_kernel_1 = np.real(gabor_kernel(frequency, theta=theta,\n",
    "                        sigma_x=sigma_x, sigma_y=sigma_y, n_stds=n_stds))\n",
    "flat_kernel_1 =resize(flat_kernel_1 , (noise_height,noise_width))\n",
    "kernel_1 = np.reshape(flat_kernel_1 ,(1,noise_height*noise_width))\n",
    "kernel_1=kernel_1-np.mean(kernel_1) # to get high-pass filter\n",
    "kernel_1=normalize(kernel_1, norm=\"max\")\n",
    "\n",
    "# generate and resize kernel 2\n",
    "flat_kernel_2 = np.real(gabor_kernel(frequency, theta=theta,\n",
    "                        sigma_x=sigma_x, sigma_y=sigma_y, n_stds=n_stds, offset=offset))\n",
    "flat_kernel_2 =resize(flat_kernel_2 , (noise_height,noise_width))\n",
    "kernel_2 = np.reshape(flat_kernel_2 ,(1,noise_height*noise_width))\n",
    "kernel_2=kernel_2-np.mean(kernel_2) # to get high-pass filter\n",
    "kernel_2=normalize(kernel_2, norm=\"max\")\n",
    "\n",
    "# inspect kernels\n",
    "fig = plt.figure(figsize=(20, 8))\n",
    "fig.add_subplot(1,3,1)\n",
    "a=plt.imshow( flat_kernel_1 , cmap='gray')\n",
    "plt.title('Kernel_1')\n",
    "fig.add_subplot(1,3,2)\n",
    "a=plt.imshow( flat_kernel_2 , cmap='gray')\n",
    "plt.title('Kernel_2')\n",
    "print(kernel_1.shape)\n",
    "print(\"Kernel_1_max = \" + str(round(kernel_1.max(),4)) + \n",
    "      \" / Kernel_1_mean = \" + str(round(kernel_1.mean(),4)) + \n",
    "      \" / Noise_1_min = \" + str(round(kernel_1.min(),4)))\n",
    "print(\"Kernel_2_max = \" + str(round(kernel_2.max(),4)) + \n",
    "      \" / Kernel_2_mean = \" + str(round(kernel_2.mean(),4)) + \n",
    "      \" / Noise_2_min = \" + str(round(kernel_2.min(),4)))"
   ]
  },
  {
   "cell_type": "code",
   "execution_count": 5,
   "metadata": {
    "collapsed": false
   },
   "outputs": [
    {
     "name": "stdout",
     "output_type": "stream",
     "text": [
      "response_max = 1.0 / response__mean = 0.0984 / response_min = 0.0 / max_spike_count = 9 / total_spike_count = 17533\n"
     ]
    },
    {
     "data": {
      "image/png": "[encoded data removed]",
      "text/plain": [
       "<matplotlib.figure.Figure at 0x7f3faee0ddd8>"
      ]
     },
     "metadata": {},
     "output_type": "display_data"
    }
   ],
   "source": [
    "# generate synthetic responses\n",
    "noise_to_use=corr_noise\n",
    "\n",
    "kernel_1_response=np.dot(kernel_1,noise_to_use.reshape(noise_height*noise_width,nframes))\n",
    "squared_kernel_1_response=np.power(kernel_1_response,2)\n",
    "kernel_2_response=np.dot(kernel_2,noise_to_use.reshape(noise_height*noise_width,nframes))\n",
    "squared_kernel_2_response=np.power(kernel_2_response,2)\n",
    "total_response=squared_kernel_1_response+squared_kernel_2_response\n",
    "\n",
    "# kernel_1_response=np.dot(kernel_1,noise_to_use.reshape(noise_height*noise_width,nframes))\n",
    "# squared_kernel_1_response=np.power(kernel_1_response,2)\n",
    "# squared_kernel_2_response=np.zeros(squared_kernel_1_response.shape)\n",
    "# total_response=squared_kernel_1_response+squared_kernel_2_response\n",
    "\n",
    "# normalize response\n",
    "total_response=(total_response-total_response.min())/(total_response.max()-total_response.min())\n",
    "\n",
    "# draw spike counts from a poisson process\n",
    "basal_count=0.04  # set model neuron basal firing \n",
    "evoked_count=4   # set model neuron maximal evoked firing modulation\n",
    "expected_count=basal_count+evoked_count*total_response.flatten()\n",
    "psth=np.random.poisson(lam=expected_count)\n",
    "\n",
    "# visualize timestamps\n",
    "timestamps=np.argwhere(psth[0:100]>0)\n",
    "plt.plot(total_response.flatten()[1:100])\n",
    "plt.plot(timestamps,-0.1*np.ones(timestamps.shape),'ko')\n",
    "print(\"response_max = \" + str(round(total_response.max(),4)) + \n",
    "      \" / response__mean = \" + str(round(total_response.mean(),4)) + \n",
    "      \" / response_min = \" + str(round(total_response.min(),4)) +\n",
    "      \" / max_spike_count = \" + str(round(psth.max(),4)) +\n",
    "      \" / total_spike_count = \" + str(round(psth.sum(),4)))"
   ]
  },
  {
   "cell_type": "markdown",
   "metadata": {},
   "source": [
    "### System identification on synthetic data - brute force optimization\n",
    " \n",
    "Now let's try to recover the linear kernel underlying our sinthetic data via direct model fitting"
   ]
  },
  {
   "cell_type": "code",
   "execution_count": 6,
   "metadata": {
    "collapsed": false
   },
   "outputs": [
    {
     "name": "stdout",
     "output_type": "stream",
     "text": [
      "(512, 32000)\n",
      "(512, 8000)\n",
      "(1, 32000)\n",
      "(1, 8000)\n",
      "float32\n",
      "float32\n",
      "float32\n",
      "float32\n"
     ]
    }
   ],
   "source": [
    "# split in training and test set\n",
    "trainsetsize=int(nframes*0.8)\n",
    "testsetsize=nframes-trainsetsize\n",
    "n_x=noise_height*noise_width\n",
    "n_y=1\n",
    "x_train=noise_to_use[:,:,0:trainsetsize].reshape(n_x,trainsetsize).astype(np.float32)\n",
    "x_test=noise_to_use[:,:,trainsetsize:nframes].reshape(n_x,testsetsize).astype(np.float32)\n",
    "y_train=1000*psth.flatten()[0:trainsetsize].reshape(n_y,trainsetsize).astype(np.float32)\n",
    "y_test=1000*psth.flatten()[trainsetsize:nframes].reshape(n_y,testsetsize).astype(np.float32)\n",
    "print(x_train.shape)\n",
    "print(x_test.shape)\n",
    "print(y_train.shape)\n",
    "print(y_test.shape)\n",
    "print(x_train.dtype)\n",
    "print(x_test.dtype)\n",
    "print(y_train.dtype)\n",
    "print(y_test.dtype)"
   ]
  },
  {
   "cell_type": "code",
   "execution_count": 7,
   "metadata": {
    "collapsed": false
   },
   "outputs": [
    {
     "name": "stdout",
     "output_type": "stream",
     "text": [
      "W1 = <tf.Variable 'W1:0' shape=(1, 512) dtype=float32_ref>\n",
      "W2 = <tf.Variable 'W2:0' shape=(1, 512) dtype=float32_ref>\n",
      "g = <tf.Variable 'g:0' shape=(1, 1) dtype=float32_ref>\n",
      "b = <tf.Variable 'b:0' shape=(1, 1) dtype=float32_ref>\n"
     ]
    }
   ],
   "source": [
    "# define parameters inizialization function\n",
    "def initialize_params(n_x):\n",
    "    W1 = tf.get_variable(\"W1\", [1,n_x], initializer = tf.random_uniform_initializer(minval=-1,maxval=1))\n",
    "    W2 = tf.get_variable(\"W2\", [1,n_x], initializer = tf.random_uniform_initializer(minval=-1,maxval=1))\n",
    "    g = tf.get_variable(\"g\", [1,1], initializer = tf.random_uniform_initializer(minval=0.95,maxval=1.05))\n",
    "    b = tf.get_variable(\"b\", [1,1], initializer = tf.random_uniform_initializer(minval=0.95,maxval=1.05))\n",
    "    params = {\"W1\": W1,\"W2\": W2,\"g\": g,\"b\": b}\n",
    "    return params\n",
    "# TEST case\n",
    "tf.reset_default_graph()\n",
    "with tf.Session() as sess:\n",
    "    params = initialize_params(n_x)\n",
    "    print(\"W1 = \" + str(params['W1']))\n",
    "    print(\"W2 = \" + str(params['W2']))\n",
    "    print(\"g = \" + str(params['g']))\n",
    "    print(\"b = \" + str(params['b']))"
   ]
  },
  {
   "cell_type": "code",
   "execution_count": 8,
   "metadata": {
    "collapsed": false
   },
   "outputs": [
    {
     "name": "stdout",
     "output_type": "stream",
     "text": [
      "X = Tensor(\"X:0\", shape=(512, ?), dtype=float32)\n",
      "Y = Tensor(\"Y:0\", shape=(1, ?), dtype=float32)\n"
     ]
    }
   ],
   "source": [
    "# define placeholder builder function\n",
    "def create_placeholders(n_x, n_y):\n",
    "    X = tf.placeholder(tf.float32, [n_x, None], name=\"X\")\n",
    "    Y = tf.placeholder(tf.float32, [n_y, None], name=\"Y\")\n",
    "    return X,Y\n",
    "# TEST case\n",
    "tf.reset_default_graph()\n",
    "with tf.Session() as sess:\n",
    "    (n_x, m) = x_train.shape                        \n",
    "    (n_y, m)= y_train.shape \n",
    "    X,Y = create_placeholders(n_x, n_y)\n",
    "    print(\"X = \" + str(X))\n",
    "    print(\"Y = \" + str(Y))"
   ]
  },
  {
   "cell_type": "code",
   "execution_count": 9,
   "metadata": {
    "collapsed": false
   },
   "outputs": [
    {
     "name": "stdout",
     "output_type": "stream",
     "text": [
      "Y_predicted = Tensor(\"add_1:0\", shape=(1, ?), dtype=float32)\n"
     ]
    }
   ],
   "source": [
    "def predict(x,params):\n",
    "    W1 = params['W1']\n",
    "    W2 = params['W2']\n",
    "    g = params['g']\n",
    "    b = params['b']\n",
    "    # let's consider diverse temporal samples as training examples \n",
    "    # so as to vectorize with matmul\n",
    "    out_1=tf.square(tf.matmul(W1,x))\n",
    "    out_2=tf.square(tf.matmul(W2,x))\n",
    "    y_predicted=g*(out_1 + out_2) + b\n",
    "    return y_predicted, out_1, out_2\n",
    "# TEST case\n",
    "tf.reset_default_graph()\n",
    "with tf.Session() as sess:\n",
    "    (n_x, m) = x_train.shape                        \n",
    "    (n_y, m)= y_train.shape \n",
    "    params = initialize_params(n_x)\n",
    "    X,Y = create_placeholders(n_x, n_y)\n",
    "    Y_predicted, out_1, out_2 =predict(X,params)\n",
    "    print(\"Y_predicted = \" + str(Y_predicted))"
   ]
  },
  {
   "cell_type": "code",
   "execution_count": 10,
   "metadata": {
    "collapsed": false
   },
   "outputs": [
    {
     "name": "stdout",
     "output_type": "stream",
     "text": [
      "cost = Tensor(\"Mean:0\", shape=(1,), dtype=float32)\n"
     ]
    }
   ],
   "source": [
    "# define cost function (over the whole batch)\n",
    "def compute_cost(y_predicted,y):\n",
    "    cost_vector=tf.pow(y-y_predicted, 2)\n",
    "    cost = tf.reduce_mean(cost_vector,1)\n",
    "    return cost\n",
    "# TEST case\n",
    "tf.reset_default_graph()\n",
    "with tf.Session() as sess:\n",
    "    (n_x, m) = x_train.shape                        \n",
    "    (n_y, m)= y_train.shape \n",
    "    params = initialize_params(n_x)\n",
    "    X,Y = create_placeholders(n_x, n_y)\n",
    "    Y_predicted, out_1, out_2=predict(X,params)\n",
    "    cost=compute_cost(Y_predicted,Y)\n",
    "    print(\"cost = \" + str(cost))"
   ]
  },
  {
   "cell_type": "code",
   "execution_count": 11,
   "metadata": {
    "collapsed": false
   },
   "outputs": [],
   "source": [
    "# define complete LN Tensorflow model using previously defined functions\n",
    "def LN_model(x_train, y_train, x_test, y_test, learning_rate = 0.05,\n",
    "          num_epochs = 10, print_cost = True):\n",
    "    \n",
    "    ops.reset_default_graph()   \n",
    "    costs=[]\n",
    "    \n",
    "    (n_x, m) = x_train.shape                        \n",
    "    (n_y, m)= y_train.shape \n",
    "    X,Y = create_placeholders(n_x, n_y)\n",
    "    params = initialize_params(n_x)\n",
    "    Y_predicted, out_1, out_2 = predict(X,params) \n",
    "    cost=compute_cost(Y_predicted,Y)\n",
    "    optimizer = tf.train.AdamOptimizer(learning_rate=learning_rate).minimize(cost)\n",
    "    \n",
    "    init = tf.global_variables_initializer() \n",
    "    with tf.Session() as sess:\n",
    "        sess.run(init)   \n",
    "\n",
    "        for epoch in range(num_epochs):\n",
    "            \n",
    "            _,epoch_cost=sess.run([optimizer, cost], feed_dict={X: x_train, Y: y_train})\n",
    "            \n",
    "            if print_cost == True and epoch % 100 == 0:\n",
    "                print (\"Cost after epoch %i: %f\" % (epoch, epoch_cost))\n",
    "                costs.append(epoch_cost)\n",
    "                \n",
    "        plt.plot(np.squeeze(costs))\n",
    "        plt.ylabel('cost')\n",
    "        plt.xlabel('iterations')\n",
    "        plt.title(\"Learning rate =\" + str(learning_rate))\n",
    "        plt.show()\n",
    "        params = sess.run(params)\n",
    "        print(\"Parameters have been trained!\")\n",
    "        y_predicted=sess.run([Y_predicted], feed_dict={X: x_train, Y: y_train})\n",
    "        y_predicted_test=sess.run([Y_predicted], feed_dict={X: x_test, Y: y_test})\n",
    "    return params, y_predicted, y_predicted_test"
   ]
  },
  {
   "cell_type": "code",
   "execution_count": 15,
   "metadata": {
    "collapsed": false
   },
   "outputs": [
    {
     "name": "stdout",
     "output_type": "stream",
     "text": [
      "Cost after epoch 0: 678551.812500\n",
      "Cost after epoch 100: 595040.812500\n",
      "Cost after epoch 200: 594182.125000\n",
      "Cost after epoch 300: 593361.062500\n",
      "Cost after epoch 400: 592658.375000\n",
      "Cost after epoch 500: 592078.125000\n",
      "Cost after epoch 600: 591590.937500\n",
      "Cost after epoch 700: 591169.437500\n",
      "Cost after epoch 800: 590795.000000\n",
      "Cost after epoch 900: 590453.000000\n",
      "Cost after epoch 1000: 590135.937500\n",
      "Cost after epoch 1100: 589837.062500\n",
      "Cost after epoch 1200: 589551.437500\n",
      "Cost after epoch 1300: 589269.000000\n",
      "Cost after epoch 1400: 588980.625000\n",
      "Cost after epoch 1500: 588661.625000\n",
      "Cost after epoch 1600: 588272.625000\n",
      "Cost after epoch 1700: 587783.000000\n",
      "Cost after epoch 1800: 587018.375000\n",
      "Cost after epoch 1900: 585731.875000\n",
      "Cost after epoch 2000: 583320.500000\n",
      "Cost after epoch 2100: 578853.687500\n",
      "Cost after epoch 2200: 570918.625000\n",
      "Cost after epoch 2300: 560530.062500\n",
      "Cost after epoch 2400: 549250.812500\n",
      "Cost after epoch 2500: 539670.000000\n",
      "Cost after epoch 2600: 530865.750000\n",
      "Cost after epoch 2700: 524795.437500\n",
      "Cost after epoch 2800: 520259.781250\n",
      "Cost after epoch 2900: 516859.656250\n",
      "Cost after epoch 3000: 514270.625000\n",
      "Cost after epoch 3100: 512276.343750\n",
      "Cost after epoch 3200: 511282.281250\n",
      "Cost after epoch 3300: 509361.000000\n",
      "Cost after epoch 3400: 508345.468750\n",
      "Cost after epoch 3500: 507370.687500\n",
      "Cost after epoch 3600: 506617.468750\n",
      "Cost after epoch 3700: 505852.031250\n",
      "Cost after epoch 3800: 505312.937500\n",
      "Cost after epoch 3900: 504691.875000\n",
      "Cost after epoch 4000: 504140.093750\n",
      "Cost after epoch 4100: 503644.312500\n",
      "Cost after epoch 4200: 503157.218750\n",
      "Cost after epoch 4300: 502655.093750\n",
      "Cost after epoch 4400: 502146.625000\n",
      "Cost after epoch 4500: 501383.312500\n",
      "Cost after epoch 4600: 500262.625000\n",
      "Cost after epoch 4700: 497370.125000\n",
      "Cost after epoch 4800: 475790.093750\n",
      "Cost after epoch 4900: 450476.468750\n",
      "Cost after epoch 5000: 446075.187500\n",
      "Cost after epoch 5100: 438611.968750\n",
      "Cost after epoch 5200: 436070.156250\n",
      "Cost after epoch 5300: 435150.281250\n",
      "Cost after epoch 5400: 433014.500000\n",
      "Cost after epoch 5500: 432003.906250\n",
      "Cost after epoch 5600: 431966.500000\n",
      "Cost after epoch 5700: 430510.343750\n",
      "Cost after epoch 5800: 429931.656250\n",
      "Cost after epoch 5900: 429468.125000\n",
      "Cost after epoch 6000: 429034.312500\n",
      "Cost after epoch 6100: 428643.250000\n",
      "Cost after epoch 6200: 428379.781250\n",
      "Cost after epoch 6300: 428211.281250\n",
      "Cost after epoch 6400: 427708.187500\n",
      "Cost after epoch 6500: 427444.625000\n",
      "Cost after epoch 6600: 427402.156250\n",
      "Cost after epoch 6700: 426999.125000\n",
      "Cost after epoch 6800: 426968.375000\n",
      "Cost after epoch 6900: 426618.906250\n",
      "Cost after epoch 7000: 426442.812500\n",
      "Cost after epoch 7100: 426288.437500\n",
      "Cost after epoch 7200: 426134.531250\n",
      "Cost after epoch 7300: 426487.062500\n",
      "Cost after epoch 7400: 425855.875000\n",
      "Cost after epoch 7500: 425726.968750\n",
      "Cost after epoch 7600: 425620.906250\n",
      "Cost after epoch 7700: 425493.187500\n",
      "Cost after epoch 7800: 425379.625000\n",
      "Cost after epoch 7900: 425276.875000\n",
      "Cost after epoch 8000: 425176.500000\n",
      "Cost after epoch 8100: 425426.125000\n",
      "Cost after epoch 8200: 424992.625000\n",
      "Cost after epoch 8300: 424904.562500\n",
      "Cost after epoch 8400: 427093.156250\n",
      "Cost after epoch 8500: 424736.562500\n",
      "Cost after epoch 8600: 424987.468750\n",
      "Cost after epoch 8700: 424578.562500\n",
      "Cost after epoch 8800: 424542.812500\n",
      "Cost after epoch 8900: 425140.750000\n",
      "Cost after epoch 9000: 424358.312500\n",
      "Cost after epoch 9100: 424319.781250\n",
      "Cost after epoch 9200: 424440.156250\n",
      "Cost after epoch 9300: 424809.250000\n",
      "Cost after epoch 9400: 424090.812500\n",
      "Cost after epoch 9500: 424033.843750\n",
      "Cost after epoch 9600: 423975.906250\n",
      "Cost after epoch 9700: 423917.250000\n",
      "Cost after epoch 9800: 423864.187500\n",
      "Cost after epoch 9900: 423806.843750\n",
      "Cost after epoch 10000: 423751.937500\n",
      "Cost after epoch 10100: 423707.406250\n",
      "Cost after epoch 10200: 423653.593750\n",
      "Cost after epoch 10300: 423602.625000\n",
      "Cost after epoch 10400: 423601.375000\n",
      "Cost after epoch 10500: 423505.125000\n",
      "Cost after epoch 10600: 423458.812500\n",
      "Cost after epoch 10700: 423541.125000\n",
      "Cost after epoch 10800: 423364.687500\n",
      "Cost after epoch 10900: 423322.062500\n",
      "Cost after epoch 11000: 424801.031250\n",
      "Cost after epoch 11100: 423233.937500\n",
      "Cost after epoch 11200: 423198.031250\n",
      "Cost after epoch 11300: 423151.312500\n",
      "Cost after epoch 11400: 423110.281250\n",
      "Cost after epoch 11500: 423074.187500\n",
      "Cost after epoch 11600: 423031.750000\n",
      "Cost after epoch 11700: 423322.093750\n",
      "Cost after epoch 11800: 422957.750000\n",
      "Cost after epoch 11900: 422920.593750\n",
      "Cost after epoch 12000: 424050.250000\n",
      "Cost after epoch 12100: 422849.093750\n",
      "Cost after epoch 12200: 422813.500000\n",
      "Cost after epoch 12300: 422797.843750\n",
      "Cost after epoch 12400: 422749.781250\n",
      "Cost after epoch 12500: 422717.187500\n",
      "Cost after epoch 12600: 422684.218750\n",
      "Cost after epoch 12700: 422670.500000\n",
      "Cost after epoch 12800: 424112.687500\n",
      "Cost after epoch 12900: 422587.437500\n",
      "Cost after epoch 13000: 422559.843750\n",
      "Cost after epoch 13100: 422524.593750\n",
      "Cost after epoch 13200: 422495.375000\n",
      "Cost after epoch 13300: 422464.562500\n",
      "Cost after epoch 13400: 422543.968750\n",
      "Cost after epoch 13500: 422407.531250\n",
      "Cost after epoch 13600: 422378.031250\n",
      "Cost after epoch 13700: 422354.312500\n",
      "Cost after epoch 13800: 422322.468750\n",
      "Cost after epoch 13900: 424198.250000\n",
      "Cost after epoch 14000: 422269.218750\n",
      "Cost after epoch 14100: 422242.343750\n",
      "Cost after epoch 14200: 423512.000000\n",
      "Cost after epoch 14300: 422191.468750\n",
      "Cost after epoch 14400: 422165.000000\n",
      "Cost after epoch 14500: 422343.500000\n",
      "Cost after epoch 14600: 422115.187500\n",
      "Cost after epoch 14700: 422089.593750\n",
      "Cost after epoch 14800: 422125.937500\n",
      "Cost after epoch 14900: 422044.093750\n",
      "Cost after epoch 15000: 422020.343750\n",
      "Cost after epoch 15100: 421995.937500\n",
      "Cost after epoch 15200: 421975.187500\n",
      "Cost after epoch 15300: 421950.593750\n",
      "Cost after epoch 15400: 421930.250000\n",
      "Cost after epoch 15500: 421908.593750\n",
      "Cost after epoch 15600: 421883.593750\n",
      "Cost after epoch 15700: 421954.937500\n",
      "Cost after epoch 15800: 421839.812500\n",
      "Cost after epoch 15900: 421817.843750\n",
      "Cost after epoch 16000: 425311.156250\n",
      "Cost after epoch 16100: 421777.031250\n",
      "Cost after epoch 16200: 421756.437500\n",
      "Cost after epoch 16300: 421734.625000\n",
      "Cost after epoch 16400: 421728.875000\n",
      "Cost after epoch 16500: 421697.156250\n",
      "Cost after epoch 16600: 421677.437500\n",
      "Cost after epoch 16700: 425967.031250\n",
      "Cost after epoch 16800: 421638.531250\n",
      "Cost after epoch 16900: 421950.093750\n",
      "Cost after epoch 17000: 421598.812500\n",
      "Cost after epoch 17100: 421580.468750\n",
      "Cost after epoch 17200: 422537.843750\n",
      "Cost after epoch 17300: 421541.500000\n",
      "Cost after epoch 17400: 421631.562500\n",
      "Cost after epoch 17500: 421505.218750\n",
      "Cost after epoch 17600: 421596.437500\n",
      "Cost after epoch 17700: 421469.906250\n",
      "Cost after epoch 17800: 421451.125000\n",
      "Cost after epoch 17900: 421455.531250\n",
      "Cost after epoch 18000: 421416.687500\n",
      "Cost after epoch 18100: 425281.375000\n",
      "Cost after epoch 18200: 421383.375000\n",
      "Cost after epoch 18300: 421366.343750\n",
      "Cost after epoch 18400: 421425.187500\n",
      "Cost after epoch 18500: 421332.812500\n",
      "Cost after epoch 18600: 421390.281250\n",
      "Cost after epoch 18700: 421300.875000\n",
      "Cost after epoch 18800: 421284.031250\n",
      "Cost after epoch 18900: 421300.000000\n",
      "Cost after epoch 19000: 421253.687500\n",
      "Cost after epoch 19100: 421238.343750\n",
      "Cost after epoch 19200: 421325.750000\n",
      "Cost after epoch 19300: 421207.031250\n",
      "Cost after epoch 19400: 421305.406250\n",
      "Cost after epoch 19500: 421176.718750\n",
      "Cost after epoch 19600: 421372.687500\n",
      "Cost after epoch 19700: 421146.593750\n",
      "Cost after epoch 19800: 421185.843750\n",
      "Cost after epoch 19900: 421117.406250\n",
      "Cost after epoch 20000: 421103.281250\n",
      "Cost after epoch 20100: 421133.968750\n",
      "Cost after epoch 20200: 421074.062500\n",
      "Cost after epoch 20300: 422602.906250\n",
      "Cost after epoch 20400: 421045.812500\n",
      "Cost after epoch 20500: 421031.250000\n",
      "Cost after epoch 20600: 421045.312500\n",
      "Cost after epoch 20700: 421004.281250\n",
      "Cost after epoch 20800: 421677.875000\n",
      "Cost after epoch 20900: 420978.687500\n",
      "Cost after epoch 21000: 420965.937500\n",
      "Cost after epoch 21100: 420951.937500\n",
      "Cost after epoch 21200: 421310.593750\n",
      "Cost after epoch 21300: 420927.156250\n",
      "Cost after epoch 21400: 420914.687500\n",
      "Cost after epoch 21500: 421986.437500\n",
      "Cost after epoch 21600: 420889.156250\n",
      "Cost after epoch 21700: 420876.062500\n",
      "Cost after epoch 21800: 420864.968750\n",
      "Cost after epoch 21900: 420851.656250\n",
      "Cost after epoch 22000: 420841.625000\n",
      "Cost after epoch 22100: 420828.218750\n",
      "Cost after epoch 22200: 420815.218750\n",
      "Cost after epoch 22300: 420801.562500\n",
      "Cost after epoch 22400: 420794.875000\n",
      "Cost after epoch 22500: 420778.375000\n",
      "Cost after epoch 22600: 420878.968750\n",
      "Cost after epoch 22700: 420755.125000\n",
      "Cost after epoch 22800: 430343.875000\n",
      "Cost after epoch 22900: 420733.656250\n",
      "Cost after epoch 23000: 420722.125000\n",
      "Cost after epoch 23100: 420710.406250\n",
      "Cost after epoch 23200: 421875.968750\n",
      "Cost after epoch 23300: 420690.250000\n",
      "Cost after epoch 23400: 420679.031250\n",
      "Cost after epoch 23500: 420668.125000\n",
      "Cost after epoch 23600: 422284.406250\n",
      "Cost after epoch 23700: 420646.906250\n",
      "Cost after epoch 23800: 420636.031250\n",
      "Cost after epoch 23900: 420626.593750\n",
      "Cost after epoch 24000: 421158.468750\n",
      "Cost after epoch 24100: 420603.625000\n",
      "Cost after epoch 24200: 420593.468750\n",
      "Cost after epoch 24300: 420616.000000\n",
      "Cost after epoch 24400: 420572.968750\n",
      "Cost after epoch 24500: 420562.031250\n",
      "Cost after epoch 24600: 420853.312500\n",
      "Cost after epoch 24700: 420544.156250\n",
      "Cost after epoch 24800: 420533.750000\n",
      "Cost after epoch 24900: 420523.406250\n",
      "Cost after epoch 25000: 421559.687500\n",
      "Cost after epoch 25100: 420504.000000\n",
      "Cost after epoch 25200: 420493.562500\n",
      "Cost after epoch 25300: 420602.187500\n",
      "Cost after epoch 25400: 420476.875000\n",
      "Cost after epoch 25500: 420467.406250\n",
      "Cost after epoch 25600: 420457.656250\n",
      "Cost after epoch 25700: 428284.843750\n",
      "Cost after epoch 25800: 420440.125000\n",
      "Cost after epoch 25900: 420430.593750\n",
      "Cost after epoch 26000: 420420.406250\n",
      "Cost after epoch 26100: 420431.968750\n",
      "Cost after epoch 26200: 420403.187500\n",
      "Cost after epoch 26300: 420393.531250\n",
      "Cost after epoch 26400: 420530.375000\n",
      "Cost after epoch 26500: 420376.187500\n",
      "Cost after epoch 26600: 425119.562500\n",
      "Cost after epoch 26700: 420358.437500\n",
      "Cost after epoch 26800: 420349.093750\n",
      "Cost after epoch 26900: 420342.218750\n",
      "Cost after epoch 27000: 420331.281250\n",
      "Cost after epoch 27100: 420413.031250\n",
      "Cost after epoch 27200: 420314.593750\n",
      "Cost after epoch 27300: 420305.281250\n",
      "Cost after epoch 27400: 420302.593750\n",
      "Cost after epoch 27500: 420289.000000\n",
      "Cost after epoch 27600: 421315.812500\n",
      "Cost after epoch 27700: 420273.781250\n",
      "Cost after epoch 27800: 420266.500000\n",
      "Cost after epoch 27900: 420257.875000\n",
      "Cost after epoch 28000: 420248.843750\n",
      "Cost after epoch 28100: 420247.968750\n",
      "Cost after epoch 28200: 420233.031250\n",
      "Cost after epoch 28300: 420226.531250\n",
      "Cost after epoch 28400: 420217.281250\n",
      "Cost after epoch 28500: 420308.687500\n",
      "Cost after epoch 28600: 420203.156250\n",
      "Cost after epoch 28700: 420195.218750\n",
      "Cost after epoch 28800: 420186.906250\n",
      "Cost after epoch 28900: 421326.906250\n",
      "Cost after epoch 29000: 420172.750000\n",
      "Cost after epoch 29100: 420164.218750\n",
      "Cost after epoch 29200: 420156.687500\n",
      "Cost after epoch 29300: 420150.593750\n",
      "Cost after epoch 29400: 420149.718750\n",
      "Cost after epoch 29500: 420134.656250\n",
      "Cost after epoch 29600: 420603.000000\n",
      "Cost after epoch 29700: 420119.093750\n",
      "Cost after epoch 29800: 420263.937500\n",
      "Cost after epoch 29900: 420104.125000\n",
      "Cost after epoch 30000: 420557.000000\n",
      "Cost after epoch 30100: 420090.781250\n",
      "Cost after epoch 30200: 420082.718750\n",
      "Cost after epoch 30300: 420099.687500\n",
      "Cost after epoch 30400: 420068.750000\n",
      "Cost after epoch 30500: 420061.000000\n",
      "Cost after epoch 30600: 420106.812500\n",
      "Cost after epoch 30700: 420048.312500\n",
      "Cost after epoch 30800: 420040.781250\n",
      "Cost after epoch 30900: 425450.906250\n",
      "Cost after epoch 31000: 420026.687500\n",
      "Cost after epoch 31100: 420031.093750\n",
      "Cost after epoch 31200: 420013.062500\n",
      "Cost after epoch 31300: 420470.968750\n",
      "Cost after epoch 31400: 419998.812500\n",
      "Cost after epoch 31500: 419998.343750\n",
      "Cost after epoch 31600: 420003.437500\n",
      "Cost after epoch 31700: 419980.687500\n",
      "Cost after epoch 31800: 419972.406250\n",
      "Cost after epoch 31900: 419965.500000\n",
      "Cost after epoch 32000: 420084.750000\n",
      "Cost after epoch 32100: 419954.250000\n",
      "Cost after epoch 32200: 419947.812500\n",
      "Cost after epoch 32300: 419940.843750\n",
      "Cost after epoch 32400: 420909.156250\n",
      "Cost after epoch 32500: 419928.968750\n",
      "Cost after epoch 32600: 419922.625000\n",
      "Cost after epoch 32700: 421128.093750\n",
      "Cost after epoch 32800: 419909.812500\n",
      "Cost after epoch 32900: 420583.812500\n",
      "Cost after epoch 33000: 419896.500000\n",
      "Cost after epoch 33100: 419936.468750\n",
      "Cost after epoch 33200: 419884.250000\n",
      "Cost after epoch 33300: 419886.156250\n",
      "Cost after epoch 33400: 419871.531250\n",
      "Cost after epoch 33500: 419921.937500\n",
      "Cost after epoch 33600: 419860.093750\n",
      "Cost after epoch 33700: 419853.468750\n",
      "Cost after epoch 33800: 419920.843750\n",
      "Cost after epoch 33900: 419841.437500\n",
      "Cost after epoch 34000: 419835.187500\n",
      "Cost after epoch 34100: 419836.906250\n",
      "Cost after epoch 34200: 419824.843750\n",
      "Cost after epoch 34300: 419818.937500\n",
      "Cost after epoch 34400: 420261.281250\n",
      "Cost after epoch 34500: 419808.781250\n",
      "Cost after epoch 34600: 419801.937500\n",
      "Cost after epoch 34700: 419799.531250\n",
      "Cost after epoch 34800: 419791.562500\n",
      "Cost after epoch 34900: 419785.312500\n",
      "Cost after epoch 35000: 419792.625000\n",
      "Cost after epoch 35100: 419774.093750\n",
      "Cost after epoch 35200: 419843.406250\n",
      "Cost after epoch 35300: 419762.531250\n",
      "Cost after epoch 35400: 419759.062500\n",
      "Cost after epoch 35500: 419751.156250\n",
      "Cost after epoch 35600: 419748.093750\n",
      "Cost after epoch 35700: 419740.218750\n",
      "Cost after epoch 35800: 419905.875000\n",
      "Cost after epoch 35900: 419730.406250\n",
      "Cost after epoch 36000: 419725.062500\n",
      "Cost after epoch 36100: 419719.437500\n",
      "Cost after epoch 36200: 419720.812500\n",
      "Cost after epoch 36300: 419708.781250\n",
      "Cost after epoch 36400: 419704.218750\n",
      "Cost after epoch 36500: 419748.437500\n",
      "Cost after epoch 36600: 419693.218750\n",
      "Cost after epoch 36700: 420032.750000\n",
      "Cost after epoch 36800: 419682.500000\n",
      "Cost after epoch 36900: 419730.593750\n",
      "Cost after epoch 37000: 419673.468750\n",
      "Cost after epoch 37100: 419667.781250\n",
      "Cost after epoch 37200: 419661.937500\n",
      "Cost after epoch 37300: 419662.500000\n",
      "Cost after epoch 37400: 419651.906250\n",
      "Cost after epoch 37500: 419649.093750\n",
      "Cost after epoch 37600: 419770.062500\n",
      "Cost after epoch 37700: 419637.812500\n",
      "Cost after epoch 37800: 419632.968750\n",
      "Cost after epoch 37900: 419627.968750\n",
      "Cost after epoch 38000: 419621.406250\n",
      "Cost after epoch 38100: 419619.312500\n",
      "Cost after epoch 38200: 419611.625000\n",
      "Cost after epoch 38300: 419617.062500\n",
      "Cost after epoch 38400: 419603.406250\n",
      "Cost after epoch 38500: 419598.125000\n",
      "Cost after epoch 38600: 421598.656250\n",
      "Cost after epoch 38700: 419588.593750\n",
      "Cost after epoch 38800: 419583.937500\n",
      "Cost after epoch 38900: 420888.625000\n",
      "Cost after epoch 39000: 419575.718750\n",
      "Cost after epoch 39100: 419570.187500\n",
      "Cost after epoch 39200: 419565.500000\n",
      "Cost after epoch 39300: 419640.468750\n",
      "Cost after epoch 39400: 419556.500000\n",
      "Cost after epoch 39500: 419582.468750\n",
      "Cost after epoch 39600: 419547.062500\n",
      "Cost after epoch 39700: 419543.281250\n",
      "Cost after epoch 39800: 420790.125000\n",
      "Cost after epoch 39900: 419533.156250\n",
      "Cost after epoch 40000: 419637.437500\n",
      "Cost after epoch 40100: 419525.218750\n",
      "Cost after epoch 40200: 419519.937500\n",
      "Cost after epoch 40300: 419893.156250\n",
      "Cost after epoch 40400: 419511.906250\n",
      "Cost after epoch 40500: 419506.593750\n",
      "Cost after epoch 40600: 419502.093750\n",
      "Cost after epoch 40700: 419505.656250\n",
      "Cost after epoch 40800: 419495.093750\n",
      "Cost after epoch 40900: 419490.281250\n",
      "Cost after epoch 41000: 419485.750000\n",
      "Cost after epoch 41100: 419496.312500\n",
      "Cost after epoch 41200: 419477.156250\n",
      "Cost after epoch 41300: 419474.687500\n",
      "Cost after epoch 41400: 423170.937500\n",
      "Cost after epoch 41500: 419464.562500\n",
      "Cost after epoch 41600: 419535.093750\n",
      "Cost after epoch 41700: 419456.125000\n",
      "Cost after epoch 41800: 419454.593750\n",
      "Cost after epoch 41900: 419447.812500\n",
      "Cost after epoch 42000: 419443.062500\n",
      "Cost after epoch 42100: 419446.281250\n",
      "Cost after epoch 42200: 419436.093750\n",
      "Cost after epoch 42300: 419431.406250\n",
      "Cost after epoch 42400: 419905.031250\n",
      "Cost after epoch 42500: 419424.031250\n",
      "Cost after epoch 42600: 419419.187500\n",
      "Cost after epoch 42700: 419976.906250\n",
      "Cost after epoch 42800: 419412.218750\n",
      "Cost after epoch 42900: 419407.812500\n",
      "Cost after epoch 43000: 419403.593750\n",
      "Cost after epoch 43100: 419408.843750\n",
      "Cost after epoch 43200: 419395.656250\n",
      "Cost after epoch 43300: 419401.593750\n",
      "Cost after epoch 43400: 419387.625000\n",
      "Cost after epoch 43500: 419607.750000\n",
      "Cost after epoch 43600: 419380.406250\n",
      "Cost after epoch 43700: 419376.437500\n",
      "Cost after epoch 43800: 421039.437500\n",
      "Cost after epoch 43900: 419369.500000\n",
      "Cost after epoch 44000: 419364.968750\n",
      "Cost after epoch 44100: 419365.562500\n",
      "Cost after epoch 44200: 419388.718750\n",
      "Cost after epoch 44300: 419353.375000\n",
      "Cost after epoch 44400: 423509.125000\n",
      "Cost after epoch 44500: 419346.312500\n",
      "Cost after epoch 44600: 419341.687500\n",
      "Cost after epoch 44700: 419347.250000\n",
      "Cost after epoch 44800: 419334.718750\n",
      "Cost after epoch 44900: 419330.562500\n",
      "Cost after epoch 45000: 419332.781250\n",
      "Cost after epoch 45100: 419324.531250\n",
      "Cost after epoch 45200: 419320.281250\n",
      "Cost after epoch 45300: 419316.937500\n",
      "Cost after epoch 45400: 419352.312500\n",
      "Cost after epoch 45500: 419310.187500\n",
      "Cost after epoch 45600: 419306.156250\n",
      "Cost after epoch 45700: 419316.781250\n",
      "Cost after epoch 45800: 419299.437500\n",
      "Cost after epoch 45900: 419294.906250\n",
      "Cost after epoch 46000: 419293.562500\n",
      "Cost after epoch 46100: 419287.718750\n",
      "Cost after epoch 46200: 419321.843750\n",
      "Cost after epoch 46300: 419280.500000\n",
      "Cost after epoch 46400: 422950.468750\n",
      "Cost after epoch 46500: 419274.750000\n",
      "Cost after epoch 46600: 419270.312500\n",
      "Cost after epoch 46700: 419933.156250\n",
      "Cost after epoch 46800: 419263.625000\n",
      "Cost after epoch 46900: 419274.125000\n",
      "Cost after epoch 47000: 419256.781250\n",
      "Cost after epoch 47100: 420891.000000\n",
      "Cost after epoch 47200: 419249.875000\n",
      "Cost after epoch 47300: 419550.218750\n",
      "Cost after epoch 47400: 419242.906250\n",
      "Cost after epoch 47500: 420194.437500\n",
      "Cost after epoch 47600: 419236.562500\n",
      "Cost after epoch 47700: 419233.093750\n",
      "Cost after epoch 47800: 420056.218750\n",
      "Cost after epoch 47900: 419226.875000\n",
      "Cost after epoch 48000: 419223.437500\n",
      "Cost after epoch 48100: 419219.937500\n",
      "Cost after epoch 48200: 419219.187500\n",
      "Cost after epoch 48300: 419213.437500\n",
      "Cost after epoch 48400: 419210.437500\n",
      "Cost after epoch 48500: 419391.218750\n",
      "Cost after epoch 48600: 419204.468750\n",
      "Cost after epoch 48700: 419200.593750\n",
      "Cost after epoch 48800: 419274.906250\n",
      "Cost after epoch 48900: 419195.656250\n",
      "Cost after epoch 49000: 419192.625000\n",
      "Cost after epoch 49100: 419189.125000\n",
      "Cost after epoch 49200: 419185.687500\n",
      "Cost after epoch 49300: 419359.687500\n",
      "Cost after epoch 49400: 419179.375000\n",
      "Cost after epoch 49500: 419616.500000\n",
      "Cost after epoch 49600: 419173.531250\n",
      "Cost after epoch 49700: 419171.937500\n",
      "Cost after epoch 49800: 419167.281250\n",
      "Cost after epoch 49900: 419528.593750\n"
     ]
    },
    {
     "data": {
      "image/png": "[encoded data removed]",
      "text/plain": [
       "<matplotlib.figure.Figure at 0x7f3fa8fc3f60>"
      ]
     },
     "metadata": {},
     "output_type": "display_data"
    },
    {
     "name": "stdout",
     "output_type": "stream",
     "text": [
      "Parameters have been trained!\n",
      "------------------------------------------\n",
      "training set rsquare = 0.292\n",
      "test set rsquare = 0.22\n",
      "total spikes used = 17533\n"
     ]
    },
    {
     "data": {
      "text/plain": [
       "<matplotlib.text.Text at 0x7f3fa5ff9c88>"
      ]
     },
     "execution_count": 15,
     "metadata": {},
     "output_type": "execute_result"
    },
    {
     "data": {
      "image/png": "[encoded data removed]",
      "text/plain": [
       "<matplotlib.figure.Figure at 0x7f3fa8f5ed30>"
      ]
     },
     "metadata": {},
     "output_type": "display_data"
    }
   ],
   "source": [
    "# run the model optimization (fit our linear model to the data)\n",
    "optimal_params, y_predicted, y_predicted_test = LN_model(x_train, y_train, x_test, y_test, \n",
    "                                     num_epochs = 50000, learning_rate=0.01, print_cost=True)\n",
    "# quantify training test and kernel reconstruction rsquare\n",
    "train_rsq=np.square(sp.stats.pearsonr(y_predicted[0].flatten(),y_train.flatten()))[0]\n",
    "test_rsq=np.square(sp.stats.pearsonr(y_predicted_test[0].flatten(),y_test.flatten()))[0]\n",
    "\n",
    "# inspect kernel\n",
    "reconstructed_kernel_1 = np.reshape(optimal_params['W1'],(noise_height,noise_width))\n",
    "reconstructed_kernel_2 = np.reshape(optimal_params['W2'],(noise_height,noise_width))\n",
    "\n",
    "# inspect results\n",
    "print('------------------------------------------')\n",
    "print(\"training set rsquare = \"+str(round(train_rsq,3)))\n",
    "print(\"test set rsquare = \"+str(round(test_rsq,3)))\n",
    "print(\"total spikes used = \"+str(round(psth.sum(),3)))\n",
    "fig = plt.figure(figsize=(20, 8))\n",
    "fig.add_subplot(1,3,1)\n",
    "a=plt.imshow( reconstructed_kernel_1 , cmap='gray')\n",
    "plt.title(\"Recovered filter 1\",fontsize=20)\n",
    "fig.add_subplot(1,3,2)\n",
    "b=plt.imshow( reconstructed_kernel_2 , cmap='gray')\n",
    "plt.title(\"Recovered filter 2\",fontsize=20)\n",
    "b=fig.add_subplot(1,3,3)\n",
    "plt.plot(y_train.flatten()[1:50], lw=5, label='y')\n",
    "plt.plot(y_predicted[0].flatten()[1:50], lw=5, label='y_predicted')\n",
    "plt.ylabel('rate',fontsize=20)\n",
    "plt.xlabel('time',fontsize=20)\n",
    "b.legend(loc=1,prop={'size': 20})\n",
    "plt.title(\"Noise response excerpt - training rsquare=\"+str(round(train_rsq,3)),fontsize=20)"
   ]
  },
  {
   "cell_type": "markdown",
   "metadata": {},
   "source": [
    "### System identification on synthetic data - spike triggered average\n",
    "Now let's try to recover the linear kernel underlying our sinthetic data via direct model fitting and compare with prevous method results ... "
   ]
  },
  {
   "cell_type": "code",
   "execution_count": 28,
   "metadata": {
    "collapsed": false
   },
   "outputs": [
    {
     "name": "stdout",
     "output_type": "stream",
     "text": [
      "sta_reconstruction_rsq_1 = 0.037 / sta_reconstruction_rsq_2 = 0.016\n",
      "k1_reconstruction_rsq_1 = 0.275 / k1_reconstruction_rsq_2 = 0.124\n",
      "k2_reconstruction_rsq_1 = 0.12 / k2_reconstruction_rsq_2 = 0.272\n"
     ]
    },
    {
     "data": {
      "text/plain": [
       "<matplotlib.text.Text at 0x7f3fa5bc9048>"
      ]
     },
     "execution_count": 28,
     "metadata": {},
     "output_type": "execute_result"
    },
    {
     "data": {
      "image/png": "[encoded data removed]",
      "text/plain": [
       "<matplotlib.figure.Figure at 0x7f3fa5d9de10>"
      ]
     },
     "metadata": {},
     "output_type": "display_data"
    }
   ],
   "source": [
    "# compute spike triggeread average\n",
    "sea=np.reshape(np.mean(x_train,1),(noise_height,noise_width))\n",
    "sta=np.reshape(np.mean(x_train*y_train,1),(noise_height,noise_width))-sea\n",
    "\n",
    "# quantify sta kernel reconstruction rsquares\n",
    "sta_reconstruction_rsq_1=np.square(sp.stats.pearsonr(kernel_1.flatten(),sta.flatten()))[0]\n",
    "sta_reconstruction_rsq_2=np.square(sp.stats.pearsonr(kernel_2.flatten(),sta.flatten()))[0]\n",
    "\n",
    "# quantify LN kernels reconstruction rsquares\n",
    "k1_reconstruction_rsq_1=np.square(sp.stats.pearsonr(kernel_1.flatten(),reconstructed_kernel_1.flatten()))[0]\n",
    "k1_reconstruction_rsq_2=np.square(sp.stats.pearsonr(kernel_2.flatten(),reconstructed_kernel_1.flatten()))[0]\n",
    "k2_reconstruction_rsq_1=np.square(sp.stats.pearsonr(kernel_1.flatten(),reconstructed_kernel_2.flatten()))[0]\n",
    "k2_reconstruction_rsq_2=np.square(sp.stats.pearsonr(kernel_2.flatten(),reconstructed_kernel_2.flatten()))[0]\n",
    "\n",
    "# display results\n",
    "print(\"sta_reconstruction_rsq_1 = \" \n",
    "      + str(round(sta_reconstruction_rsq_1,3)) + \" / sta_reconstruction_rsq_2 = \"\n",
    "      + str(round(sta_reconstruction_rsq_2,3)))\n",
    "print(\"k1_reconstruction_rsq_1 = \"\n",
    "      + str(round(k1_reconstruction_rsq_1,3)) + \" / k1_reconstruction_rsq_2 = \"\n",
    "      + str(round(k1_reconstruction_rsq_2,3)))\n",
    "print(\"k2_reconstruction_rsq_1 = \"\n",
    "      + str(round(k2_reconstruction_rsq_1,3)) + \" / k2_reconstruction_rsq_2 = \"\n",
    "      + str(round(k2_reconstruction_rsq_2,3)))\n",
    "fig = plt.figure(figsize=(20, 8))\n",
    "fig.add_subplot(1,3,1)\n",
    "a=plt.imshow( sta , cmap='gray')\n",
    "plt.title(\"STA recovered filter\" ,fontsize=12)\n",
    "fig.add_subplot(1,3,2)\n",
    "a=plt.imshow( reconstructed_kernel_1 , cmap='gray')\n",
    "plt.title(\"LN recovered filter\" ,fontsize=12)\n",
    "fig.add_subplot(1,3,3)\n",
    "a=plt.imshow( reconstructed_kernel_2 , cmap='gray')\n",
    "plt.title(\"LN recovered filter\" ,fontsize=12)"
   ]
  },
  {
   "cell_type": "markdown",
   "metadata": {},
   "source": [
    "### System identification via feature visualization \n",
    "Let's now try something different: let's try to recover the ground truth filter with a feature visualization approach (i.e. directly optimizing pixel grayscale values of a noise input image to maximize the activation of our simple LN model)"
   ]
  },
  {
   "cell_type": "code",
   "execution_count": 29,
   "metadata": {
    "collapsed": false
   },
   "outputs": [
    {
     "name": "stdout",
     "output_type": "stream",
     "text": [
      "X = <tf.Variable 'X:0' shape=(512, 1) dtype=float32_ref>\n"
     ]
    }
   ],
   "source": [
    "# define stimulus inizialization function\n",
    "def initialize_stimulus(n_x):\n",
    "\n",
    "    X = tf.get_variable(\"X\", [n_x,1], \n",
    "                        initializer = tf.random_uniform_initializer(minval=0,maxval=1),\n",
    "                        trainable=True)\n",
    "    return X\n",
    "# TEST case\n",
    "tf.reset_default_graph()\n",
    "with tf.Session() as sess:\n",
    "    X = initialize_stimulus(n_x)\n",
    "    print(\"X = \" + str(X))"
   ]
  },
  {
   "cell_type": "code",
   "execution_count": 35,
   "metadata": {
    "collapsed": false
   },
   "outputs": [
    {
     "name": "stdout",
     "output_type": "stream",
     "text": [
      "W1 = Tensor(\"W1:0\", shape=(1, 512), dtype=float32)\n",
      "W2 = Tensor(\"W2:0\", shape=(1, 512), dtype=float32)\n",
      "g = Tensor(\"g:0\", shape=(1, 1), dtype=float32)\n",
      "b = Tensor(\"b:0\", shape=(1, 1), dtype=float32)\n"
     ]
    }
   ],
   "source": [
    "# define placeholder builder function\n",
    "def create_placeholder_bis(n_x):\n",
    "    W1 = tf.placeholder(tf.float32, [1, n_x], name=\"W1\")\n",
    "    W2 = tf.placeholder(tf.float32, [1, n_x], name=\"W2\")\n",
    "    g = tf.placeholder(tf.float32, [1, 1], name=\"g\")\n",
    "    b = tf.placeholder(tf.float32, [1, 1], name=\"b\")\n",
    "    return W1,W2,g,b\n",
    "# TEST case\n",
    "tf.reset_default_graph()\n",
    "with tf.Session() as sess:\n",
    "    (n_x, m) = x_train.shape                        \n",
    "    W1,W2,g,b = create_placeholder_bis(n_x)\n",
    "    print(\"W1 = \" + str(W1))\n",
    "    print(\"W2 = \" + str(W2))\n",
    "    print(\"g = \" + str(g))\n",
    "    print(\"b = \" + str(b))"
   ]
  },
  {
   "cell_type": "code",
   "execution_count": 42,
   "metadata": {
    "collapsed": false
   },
   "outputs": [
    {
     "name": "stdout",
     "output_type": "stream",
     "text": [
      "Y_predicted = Tensor(\"add_1:0\", shape=(1, 1), dtype=float32)\n"
     ]
    }
   ],
   "source": [
    "def predict_bis (x,W1,W2,g,b):\n",
    "    # similar as in the original model but without normalization (g is not used > to be removed)\n",
    "    out_1=tf.square(tf.matmul(W1,x))\n",
    "    out_2=tf.square(tf.matmul(W2,x))\n",
    "    y_predicted=g*(out_1 + out_2) + b\n",
    "    return y_predicted\n",
    "# TEST case\n",
    "tf.reset_default_graph()\n",
    "with tf.Session() as sess:\n",
    "    (n_x, m) = x_train.shape                        \n",
    "    X = initialize_stimulus(n_x)\n",
    "    W1,W2,g,b = create_placeholder_bis(n_x)\n",
    "    Y_predicted=predict_bis(X,W1,W2,g,b)\n",
    "    print(\"Y_predicted = \" + str(Y_predicted))"
   ]
  },
  {
   "cell_type": "code",
   "execution_count": 44,
   "metadata": {
    "collapsed": false
   },
   "outputs": [
    {
     "name": "stdout",
     "output_type": "stream",
     "text": [
      "cost = Tensor(\"add_3:0\", shape=(1, 1), dtype=float32)\n"
     ]
    }
   ],
   "source": [
    "# define cost function (over the whole batch)\n",
    "def compute_cost_bis(Y_predicted,X,noise_height=16,noise_width=32,lambda_sparse=1,lambda_smooth=1):\n",
    "    \n",
    "    # convert shape into: 1 x height x width x 1.\n",
    "    X_resized = tf.expand_dims(tf.expand_dims(tf.reshape(X,[noise_height,noise_width]), 0), 3)\n",
    "    laplace_filter = tf.expand_dims(tf.expand_dims(tf.constant([[0, -1, 0], [-1, 4, -1],\n",
    "                                                                [0, -1, 0]], tf.float32), 2), 3)\n",
    "    filtered_X = tf.nn.conv2d(X_resized, laplace_filter,\n",
    "                          strides=[1, 1, 1, 1], padding='SAME')\n",
    "    sparsity_regularizer = lambda_sparse * tf.reduce_sum(tf.abs(tf.reshape(X_resized-0.5, [-1])))\n",
    "    smoothness_regularizer = lambda_smooth * tf.sqrt(tf.reduce_sum(tf.square(tf.reshape(filtered_X, [-1]))))\n",
    "    cost = -Y_predicted +sparsity_regularizer +smoothness_regularizer\n",
    "    \n",
    "    return cost\n",
    "# TEST case\n",
    "tf.reset_default_graph()\n",
    "with tf.Session() as sess:\n",
    "    (n_x, m) = x_train.shape                        \n",
    "    X = initialize_stimulus(n_x)\n",
    "    W1,W2,g,b = create_placeholder_bis(n_x)\n",
    "    Y_predicted=predict_bis(X,W1,W2,g,b)\n",
    "    cost=compute_cost_bis(Y_predicted,X,noise_height=noise_height,\n",
    "                          noise_width=noise_width,lambda_sparse=1,lambda_smooth=1)\n",
    "    print(\"cost = \" + str(cost))"
   ]
  },
  {
   "cell_type": "code",
   "execution_count": 46,
   "metadata": {
    "collapsed": false
   },
   "outputs": [],
   "source": [
    "# define complete optimal stimulus generator using previously defined functions\n",
    "def optimal_stimulus_generator(params, noise_height=16, noise_width=32, learning_rate = 0.1,\n",
    "          num_epochs = 10, lambda_sparse=0.01, lambda_smooth=0.5, print_cost = True):\n",
    "    \n",
    "    n_x=noise_height*noise_width\n",
    "    ops.reset_default_graph()   \n",
    "    costs=[]\n",
    "    \n",
    "    # define placeholders for parameters\n",
    "    W1,W2,g,b = create_placeholder_bis(n_x)\n",
    "    \n",
    "    # initialize stimulus\n",
    "    X=initialize_stimulus(n_x)\n",
    "    \n",
    "    # enforce the constraint that X has to be a [0,1] grayscale image\n",
    "    X=tf.where(tf.less(tf.ones_like(X),X),tf.ones_like(X),X)\n",
    "    X=tf.where(tf.less(X,tf.zeros_like(X)),tf.zeros_like(X),X)\n",
    "    \n",
    "    # compute activation\n",
    "    Y_predicted=predict_bis(X,W1,W2,g,b)\n",
    "    \n",
    "    # define cost as - activation (we want to maximize activation)\n",
    "    cost=compute_cost_bis(Y_predicted,X,noise_height=noise_height,\n",
    "                         noise_width=noise_width,lambda_sparse=lambda_sparse,lambda_smooth=lambda_smooth)\n",
    "    \n",
    "    # set optimizer\n",
    "    optimizer = tf.train.AdamOptimizer(learning_rate=learning_rate).minimize(cost)\n",
    "    \n",
    "    init = tf.global_variables_initializer() \n",
    "    with tf.Session() as sess:\n",
    "        sess.run(init)   \n",
    "\n",
    "        for epoch in range(num_epochs):\n",
    "\n",
    "            _,epoch_cost=sess.run([optimizer, cost], feed_dict={W1:params['W1'],\n",
    "                                                                W2:params['W2'],\n",
    "                                                                g:params['g'],\n",
    "                                                                b:params['g']})\n",
    "            \n",
    "            if print_cost == True and epoch % 100 == 0:\n",
    "                print (\"Cost after epoch %i: %f\" % (epoch, epoch_cost))\n",
    "                costs.append(epoch_cost)\n",
    "                \n",
    "        plt.plot(np.squeeze(costs))\n",
    "        plt.ylabel('cost')\n",
    "        plt.xlabel('iterations')\n",
    "        plt.title(\"Learning rate =\" + str(learning_rate))\n",
    "        plt.show()\n",
    "        print(\"Parameters have been trained!\")\n",
    "        optimal_stimulus=sess.run(X, feed_dict={W1:params['W1'],\n",
    "                                                W2:params['W2'],\n",
    "                                                g:params['g'],\n",
    "                                                b:params['g']})\n",
    "        \n",
    "        return optimal_stimulus"
   ]
  },
  {
   "cell_type": "code",
   "execution_count": 96,
   "metadata": {
    "collapsed": false,
    "scrolled": true
   },
   "outputs": [
    {
     "name": "stdout",
     "output_type": "stream",
     "text": [
      "Cost after epoch 0: 608840.000000\n",
      "Cost after epoch 100: 360086.500000\n",
      "Cost after epoch 200: -70538.054688\n",
      "Cost after epoch 300: -699311.875000\n",
      "Cost after epoch 400: -1309463.500000\n",
      "Cost after epoch 500: -1832956.000000\n",
      "Cost after epoch 600: -2215265.000000\n",
      "Cost after epoch 700: -2447670.750000\n",
      "Cost after epoch 800: -2520968.000000\n",
      "Cost after epoch 900: -2548225.000000\n",
      "Cost after epoch 1000: -2561377.250000\n",
      "Cost after epoch 1100: -2566248.750000\n",
      "Cost after epoch 1200: -2568583.000000\n",
      "Cost after epoch 1300: -2569913.750000\n",
      "Cost after epoch 1400: -2570823.500000\n"
     ]
    },
    {
     "data": {
      "image/png": "[encoded data removed]",
      "text/plain": [
       "<matplotlib.figure.Figure at 0x7f3f473d6b70>"
      ]
     },
     "metadata": {},
     "output_type": "display_data"
    },
    {
     "name": "stdout",
     "output_type": "stream",
     "text": [
      "Parameters have been trained!\n"
     ]
    },
    {
     "data": {
      "text/plain": [
       "<matplotlib.text.Text at 0x7f3f46ab5b00>"
      ]
     },
     "execution_count": 96,
     "metadata": {},
     "output_type": "execute_result"
    },
    {
     "data": {
      "image/png": "[encoded data removed]",
      "text/plain": [
       "<matplotlib.figure.Figure at 0x7f3f47058be0>"
      ]
     },
     "metadata": {},
     "output_type": "display_data"
    }
   ],
   "source": [
    "# run the model optimization (fit our linear model to the data)\n",
    "optimal_stimulus = optimal_stimulus_generator(optimal_params, noise_height=noise_height, \n",
    "          noise_width=noise_width, learning_rate = 0.001,\n",
    "          num_epochs = 1500, print_cost = True, lambda_sparse=4000, lambda_smooth=4000)\n",
    "# regape optimal stimulus\n",
    "opfeat=np.reshape(optimal_stimulus,(noise_height,noise_width))\n",
    "# quantify kernel reconstruction rsquare\n",
    "optimal_stimulus_rsq=np.square(sp.stats.pearsonr(kernel_1.flatten(),opfeat.flatten()))[0]\n",
    "\n",
    "# display results\n",
    "fig = plt.figure(figsize=(20, 8))\n",
    "fig.add_subplot(1,3,1)\n",
    "a=plt.imshow( opfeat , cmap='gray')\n",
    "plt.title(\"Optimal stimulus\",fontsize=12)\n",
    "fig.add_subplot(1,3,2)\n",
    "a=plt.imshow( reconstructed_kernel_1 , cmap='gray')\n",
    "plt.title(\"LN recovered filter\" ,fontsize=12)\n",
    "fig.add_subplot(1,3,3)\n",
    "a=plt.imshow( reconstructed_kernel_2 , cmap='gray')\n",
    "plt.title(\"LN recovered filter\" ,fontsize=12)"
   ]
  }
 ],
 "metadata": {
  "kernelspec": {
   "display_name": "Python 3",
   "language": "python",
   "name": "python3"
  },
  "language_info": {
   "codemirror_mode": {
    "name": "ipython",
    "version": 3
   },
   "file_extension": ".py",
   "mimetype": "text/x-python",
   "name": "python",
   "nbconvert_exporter": "python",
   "pygments_lexer": "ipython3",
   "version": "3.6.0"
  }
 },
 "nbformat": 4,
 "nbformat_minor": 2
}
